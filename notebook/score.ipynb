{
 "cells": [
  {
   "cell_type": "code",
   "execution_count": 1,
   "metadata": {},
   "outputs": [
    {
     "name": "stdout",
     "output_type": "stream",
     "text": [
      "inwild_unetrasc.txt , -0.8843319872903883 , 1.8243769715777565\n",
      "inwild_input.txt , -0.637316420841128 , 1.7555456137258385\n",
      "inwild_preDIH.txt , -0.15486053309741601 , 1.5157804209414727\n",
      "inwild_dih256seg.txt , -0.9728557110685317 , 1.8487475281944281\n"
     ]
    },
    {
     "data": {
      "text/plain": [
       "<matplotlib.figure.Figure at 0x7f98b7ca7438>"
      ]
     },
     "metadata": {},
     "output_type": "display_data"
    },
    {
     "name": "stdout",
     "output_type": "stream",
     "text": [
      "cocov4_unet.txt , -0.19384318079456409 , 1.597049385993254\n",
      "cocov4_dih256seg.txt , -0.33837889645591657 , 1.6381267054604525\n",
      "cocov4_pix2pixrasc.txt , -2.7995991860364406 , 2.5836543849933507\n",
      "cocov4_dih256.txt , -0.41546811832718566 , 1.655301550091111\n",
      "cocov4_radhnv3xgaussian.txt , -0.1664340153492831 , 1.596039107983466\n",
      "cocov4_rascseg.txt , -0.19566369627435237 , 1.581331387966551\n",
      "cocov4_realismCNN.txt , 0.2181016475815404 , 1.4080988376595869\n",
      "cocov4_dihrasc.txt , -0.2513213134229635 , 1.6067739541249175\n",
      "cocov4_pix2pix.txt , -2.3703793559889883 , 2.3068574934125623\n",
      "cocov4_can.txt , -0.12867892023158586 , 1.5638594815729863\n"
     ]
    },
    {
     "data": {
      "text/plain": [
       "<matplotlib.figure.Figure at 0x7f98b5d466a0>"
      ]
     },
     "metadata": {},
     "output_type": "display_data"
    },
    {
     "name": "stdout",
     "output_type": "stream",
     "text": [
      "adobe5k_radhnv3xgaussian.txt , -0.2501917377883984 , 1.8337231206798101\n",
      "adobe5k_dihrasc.txt , -0.27371860090566197 , 1.8624014011566914\n",
      "adobe_realismCNN.txt , -0.37263851573552226 , 1.835885057750221\n",
      "adobe5k_unet.txt , -0.304109384826854 , 1.8439744742560444\n",
      "adobe5k_dih256.txt , -0.3406306986943318 , 1.8542072654396013\n",
      "adobe5k_can.txt , -0.060122944100582894 , 1.7633014882195102\n"
     ]
    },
    {
     "data": {
      "text/plain": [
       "<matplotlib.figure.Figure at 0x7f98b3a6e4e0>"
      ]
     },
     "metadata": {},
     "output_type": "display_data"
    }
   ],
   "source": [
    "import numpy as np\n",
    "from sklearn import metrics\n",
    "import glob\n",
    "import matplotlib.pyplot as plt\n",
    "import numpy as np\n",
    "# load the predicted score from txt\n",
    "\n",
    "arr_mean = []\n",
    "arr_std = []\n",
    "arr_names = []\n",
    "\n",
    "for filex in glob.glob('inwild*.txt'):\n",
    "    results = []\n",
    "    with open(filex) as f:\n",
    "        for line in f.readlines():\n",
    "            m = line.split(',')\n",
    "            nn = float(m[1])\n",
    "            results.append(nn)\n",
    "    pred = np.array(results)\n",
    "    print(filex,',',np.mean(pred),',',np.std(pred))\n",
    "    arr_mean.append(np.mean(pred))\n",
    "    arr_std.append(np.std(pred)/10)\n",
    "    arr_names.append(filex.replace('inwild_','').replace('.txt',''))\n",
    "    \n",
    "plt.errorbar(arr_names,arr_mean,arr_std,linestyle='None', marker='^')\n",
    "plt.show()\n",
    "\n",
    "arr_mean = []\n",
    "arr_std = []\n",
    "arr_names = []\n",
    "\n",
    "for filex in glob.glob('cocov4*.txt'):\n",
    "    results = []\n",
    "    with open(filex) as f:\n",
    "        for line in f.readlines():\n",
    "            m = line.split(',')\n",
    "            nn = float(m[1])\n",
    "            results.append(nn)\n",
    "    pred = np.array(results)\n",
    "    print(filex,',',np.mean(pred),',',np.std(pred))\n",
    "    arr_mean.append(np.mean(pred))\n",
    "    arr_std.append(np.std(pred)/10)\n",
    "    arr_names.append(filex.replace('cocov4_','').replace('.txt',''))\n",
    "\n",
    "plt.errorbar(arr_names,arr_mean,arr_std,linestyle='None', marker='^')\n",
    "plt.show()\n",
    "\n",
    "arr_mean = []\n",
    "arr_std = []\n",
    "arr_names = []\n",
    "\n",
    "for filex in glob.glob('adobe*.txt'):\n",
    "    results = []\n",
    "    with open(filex) as f:\n",
    "        for line in f.readlines():\n",
    "            m = line.split(',')\n",
    "            nn = float(m[1])\n",
    "            results.append(nn)\n",
    "    pred = np.array(results)\n",
    "    print(filex,',',np.mean(pred),',',np.std(pred))\n",
    "    arr_mean.append(np.mean(pred))\n",
    "    arr_std.append(np.std(pred)/10)\n",
    "    arr_names.append(filex.replace('adobe5k_.txt',''))\n",
    "\n",
    "    \n",
    "plt.errorbar(arr_names,arr_mean,arr_std,linestyle='None', marker='^')\n",
    "plt.show()"
   ]
  },
  {
   "cell_type": "code",
   "execution_count": null,
   "metadata": {},
   "outputs": [],
   "source": [
    "    "
   ]
  },
  {
   "cell_type": "code",
   "execution_count": null,
   "metadata": {},
   "outputs": [],
   "source": []
  },
  {
   "cell_type": "code",
   "execution_count": null,
   "metadata": {},
   "outputs": [],
   "source": [
    "\n"
   ]
  },
  {
   "cell_type": "code",
   "execution_count": null,
   "metadata": {},
   "outputs": [],
   "source": []
  },
  {
   "cell_type": "code",
   "execution_count": null,
   "metadata": {},
   "outputs": [],
   "source": []
  },
  {
   "cell_type": "code",
   "execution_count": null,
   "metadata": {},
   "outputs": [],
   "source": []
  }
 ],
 "metadata": {
  "kernelspec": {
   "display_name": "Python 3",
   "language": "python",
   "name": "python3"
  },
  "language_info": {
   "codemirror_mode": {
    "name": "ipython",
    "version": 3
   },
   "file_extension": ".py",
   "mimetype": "text/x-python",
   "name": "python",
   "nbconvert_exporter": "python",
   "pygments_lexer": "ipython3",
   "version": "3.6.7"
  }
 },
 "nbformat": 4,
 "nbformat_minor": 2
}
