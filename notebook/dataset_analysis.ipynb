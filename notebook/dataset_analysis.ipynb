{
 "cells": [
  {
   "cell_type": "code",
   "execution_count": 28,
   "metadata": {},
   "outputs": [
    {
     "name": "stdout",
     "output_type": "stream",
     "text": [
      "total Dataset of val2017 is :  1716\n"
     ]
    }
   ],
   "source": [
    "# analysis the mask distribution of dataset.\n",
    "from __future__ import print_function, absolute_import\n",
    "\n",
    "import os \n",
    "import torch\n",
    "import torch.nn.parallel\n",
    "import torch.backends.cudnn as cudnn\n",
    "import torch.optim\n",
    "import torchvision\n",
    "import torchvision.datasets as datasets\n",
    "import numpy as np\n",
    "import matplotlib.pyplot as plt\n",
    "from PIL import Image, ImageChops\n",
    "import sys, math\n",
    "sys.path.append('..')\n",
    "\n",
    "import scripts.utils\n",
    "from scripts.utils.logger import Logger, savefig\n",
    "from scripts.utils.evaluation import accuracy, AverageMeter, final_preds\n",
    "from scripts.utils.misc import save_checkpoint, save_pred, adjust_learning_rate\n",
    "from scripts.utils.osutils import mkdir_p, isfile, isdir, join\n",
    "from scripts.utils.imutils import batch_with_heatmap,normalize_batch,im_to_numpy\n",
    "from scripts.utils.transforms import fliplr, flip_back\n",
    "import scripts.models as models\n",
    "import scripts.datasets as datasets\n",
    "import random\n",
    "from matplotlib import cm\n",
    "\n",
    "dataset_name= 'val2017'\n",
    "dataroot = '/home/oishii/Documents/coco_data_maker/synthesis_coco_v4/'\n",
    "\n",
    "class objectview(object):\n",
    "    def __init__(self, *args, **kwargs):\n",
    "        d = dict(*args, **kwargs)\n",
    "        self.__dict__ = d\n",
    "        \n",
    "data_config  = objectview({'input_size':256,'normalized_input':False,'data_augumentation':False,'withseg':False})\n",
    "\n",
    "val_loader = torch.utils.data.DataLoader(datasets.COCO(dataroot,dataset_name,config=data_config,sample=[],gan_norm=True),\n",
    "                                                 batch_size=1, shuffle=False,\n",
    "                                                 num_workers=2, pin_memory=False)\n",
    "\n",
    "# analysis the differnce between the input and target\n",
    "# analysis the mask distribution.\n",
    "arr_diff = []\n",
    "arr_prec = []\n",
    "for i, (inputs, target) in enumerate(val_loader):            \n",
    "            \n",
    "    inputsnp = im_to_numpy(inputs[0,0:3])\n",
    "    targetnp = im_to_numpy(target[0][0])\n",
    "    masknp = im_to_numpy(inputs[0,3:4].repeat(3,1,1))\n",
    "    diff = np.sum((inputsnp - targetnp)**2)/np.sum(masknp)\n",
    "    arr_diff.append(diff)\n",
    "    arr_prec.append(np.sum(masknp)/(masknp.shape[0]*masknp.shape[1])/3)\n",
    "\n",
    "            "
   ]
  },
  {
   "cell_type": "code",
   "execution_count": 31,
   "metadata": {},
   "outputs": [
    {
     "data": {
      "text/plain": [
       "(array([  3.,  16.,  49.,  68., 103., 122., 127., 138., 117., 113.,  94.,\n",
       "        109.,  96.,  80.,  91.,  83.,  51.,  55.,  50.,  39.,  37.,  22.,\n",
       "         16.,  11.,   5.,   7.,   2.,   4.,   3.,   1.,   1.,   0.,   0.,\n",
       "          1.,   0.,   0.,   0.,   0.,   1.,   1.]),\n",
       " array([0.10406248, 0.28001468, 0.45596688, 0.63191908, 0.80787127,\n",
       "        0.98382347, 1.15977567, 1.33572787, 1.51168007, 1.68763226,\n",
       "        1.86358446, 2.03953666, 2.21548886, 2.39144106, 2.56739325,\n",
       "        2.74334545, 2.91929765, 3.09524985, 3.27120205, 3.44715424,\n",
       "        3.62310644, 3.79905864, 3.97501084, 4.15096304, 4.32691523,\n",
       "        4.50286743, 4.67881963, 4.85477183, 5.03072403, 5.20667622,\n",
       "        5.38262842, 5.55858062, 5.73453282, 5.91048502, 6.08643721,\n",
       "        6.26238941, 6.43834161, 6.61429381, 6.79024601, 6.9661982 ,\n",
       "        7.1421504 ]),\n",
       " <a list of 40 Patch objects>)"
      ]
     },
     "execution_count": 31,
     "metadata": {},
     "output_type": "execute_result"
    },
    {
     "data": {
      "image/png": "[encoded data removed]",
      "text/plain": [
       "<matplotlib.figure.Figure at 0x7fb825754320>"
      ]
     },
     "metadata": {
      "needs_background": "light"
     },
     "output_type": "display_data"
    }
   ],
   "source": [
    "plt.hist(arr_diff,40)"
   ]
  },
  {
   "cell_type": "code",
   "execution_count": 26,
   "metadata": {},
   "outputs": [
    {
     "data": {
      "text/plain": [
       "(256, 256, 3)"
      ]
     },
     "execution_count": 26,
     "metadata": {},
     "output_type": "execute_result"
    }
   ],
   "source": [
    "masknp.shape"
   ]
  },
  {
   "cell_type": "code",
   "execution_count": 12,
   "metadata": {},
   "outputs": [],
   "source": [
    "from matplotlib import cm\n",
    "import numpy as np\n",
    "import matplotlib.pyplot as plt\n",
    "from PIL import Image\n",
    "\n",
    "def get_jet():\n",
    "    colormap_int = np.zeros((256, 3), np.uint8)\n",
    " \n",
    "    for i in range(0, 256, 1):\n",
    "        colormap_int[i, 0] = np.int_(np.round(cm.jet(i)[0] * 255.0))\n",
    "        colormap_int[i, 1] = np.int_(np.round(cm.jet(i)[1] * 255.0))\n",
    "        colormap_int[i, 2] = np.int_(np.round(cm.jet(i)[2] * 255.0))\n",
    "\n",
    "    return colormap_int\n",
    "\n",
    "jet_map = get_jet()\n",
    "\n",
    "\n",
    "Image.fromarray(np.array(jet_map).reshape(256,1,3).repeat(10,axis=1)).save('colormap.png')\n",
    "\n",
    "# plt.imshow()\n",
    "# plt.axis('off')\n",
    "# plt.draw()\n",
    "# def clamp(num, min_value, max_value):\n",
    "#     return max(min(num, max_value), min_value)\n",
    "\n",
    "# def gray2color(gray_array, color_map):\n",
    "    \n",
    "#     rows, cols = gray_array.shape\n",
    "#     color_array = np.zeros((rows, cols, 3), np.uint8)\n",
    " \n",
    "#     for i in range(0, rows):\n",
    "#         for j in range(0, cols):\n",
    "# #             log(256,2) = 8 , log(1,2) = 0 * 8\n",
    "#             color_array[i, j] = color_map[clamp(int(abs(gray_array[i, j])*10),0,255)]\n",
    "    \n",
    "#     return color_array\n",
    "\n"
   ]
  },
  {
   "cell_type": "code",
   "execution_count": null,
   "metadata": {},
   "outputs": [],
   "source": []
  }
 ],
 "metadata": {
  "kernelspec": {
   "display_name": "Python 3",
   "language": "python",
   "name": "python3"
  },
  "language_info": {
   "codemirror_mode": {
    "name": "ipython",
    "version": 3
   },
   "file_extension": ".py",
   "mimetype": "text/x-python",
   "name": "python",
   "nbconvert_exporter": "python",
   "pygments_lexer": "ipython3",
   "version": "3.6.7"
  }
 },
 "nbformat": 4,
 "nbformat_minor": 2
}
